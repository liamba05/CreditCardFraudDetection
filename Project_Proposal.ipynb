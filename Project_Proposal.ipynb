{
 "cells": [
  {
   "cell_type": "markdown",
   "id": "ec8bc524-6a46-4074-88db-52e885080cac",
   "metadata": {},
   "source": [
    "DS 3000\n",
    "Owen Marcotte\n",
    "# Project Proposal\n",
    "The process of choosing a college to apply to can be overwhelming, with countless sources of information and many different factors to consider. It can be hard to find objective metrics to rank them. This project will attempt to provide some insight into this decision by highlighting key information and trends in a college's data. Specifically, this project uses the US Department of Education's College Scoreboard API (<a>https://collegescorecard.ed.gov/data/api-documentation/) to answer the following questions:\n",
    "* Given the recent trends in each college's data, what college in a given city is expected to offer the best chance at graduating?\n",
    "* Given the recent trends in each college's data, which one in a given city offers the most successful start to a career?\n",
    "\n",
    "If this project proves useful, it may also be relatively easily expanded to provide insight on other college data, such as the rate of graduates who find work, or the total cost of a program.\n",
    "\n",
    "To accomplish this task, this project will use the data below, gathered from the US Department of Education's College Scoreboard API (<a>https://collegescorecard.ed.gov/data/api-documentation/). If the scope of the project is increased, it is simple to gather more parameters.\n"
   ]
  },
  {
   "cell_type": "code",
   "execution_count": 2,
   "id": "d4ed478d-6100-4692-b029-2f6c26fcefbb",
   "metadata": {},
   "outputs": [
    {
     "name": "stdout",
     "output_type": "stream",
     "text": [
      "{\"metadata\":{\"page\":0,\"total\":6484,\"per_page\":20},\"results\":[{\"2022.earnings.6_yrs_after_entry.median\":0,\"2021.earnings.6_yrs_after_entry.median\":0,\"2020.earnings.6_yrs_after_entry.median\":27851,\"2019.earnings.6_yrs_after_entry.median\":0,\"2018.earnings.6_yrs_after_entry.median\":0,\"2017.earnings.6_yrs_after_entry.median\":0,\"2016.earnings.6_yrs_after_entry.median\":0,\"2015.earnings.6_yrs_after_entry.median\":0,\"2014.earnings.6_yrs_after_entry.median\":25200,\"2013.earnings.6_yrs_after_entry.median\":23100,\"2012.earnings.6_yrs_after_entry.median\":22000,\"2011.earnings.6_yrs_after_entry.median\":22800,\"2010.earnings.6_yrs_after_entry.median\":0,\"2009.earnings.6_yrs_after_entry.median\":25000,\"2008.earnings.6_yrs_after_entry.median\":0,\"2007.earnings.6_yrs_after_entry.median\":26100,\"2006.earnings.6_yrs_after_entry.median\":0,\"2005.earnings.6_yrs_after_entry.median\":25700,\"2004.earnings.6_yrs_after_entry.median\":0,\"2003.earnings.6_yrs_after_entry.median\":28400,\"2002.earnings.6_yrs_after_entry.median\":0,\"2001.earnings.6_yrs_after_entry.median\":0,\"2000.earnings.6_yrs_after_entry.median\":0,\"1999.earnings.6_yrs_after_entry.median\":0,\"1998.earnings.6_yrs_after_entry.median\":0,\"school.name\":\"Alabama A & M University\",\"school.city\":\"Normal\",\"id\":100654},{\"2022.earnings.6_yrs_after_entry.median\":0,\"2021.earnings.6_yrs_after_entry.median\":0,\"2020.earnings.6_yrs_after_entry.median\":46572,\"2019.earnings.6_yrs_after_entry.median\":0,\"2018.earnings.6_yrs_after_entry.median\":0,\"2017.earnings.6_yrs_after_entry.median\":0,\"2016.earnings.6_yrs_after_entry.median\":0,\"2015.earnings.6_yrs_after_entry.median\":0,\"2014.earnings.6_yrs_after_entry.median\":35100,\"2013.earnings.6_yrs_after_entry.median\":34000,\"2012.earnings.6_yrs_after_entry.median\":33300,\"2011.earnings.6_yrs_after_entry.median\":33200,\"2010.earnings.6_yrs_after_entry.median\":0,\"2009.earnings.6_yrs_after_entry.median\":34700,\"2008.earnings.6_yrs_after_entry.median\":0,\"2007.earnings.6_yrs_after_entry.median\":35200,\"2006.earnings.6_yrs_after_entry.median\":0,\"2005.earnings.6_yrs_after_entry.median\":35100,\"2004.earnings.6_yrs_after_entry.median\":0,\"2003.earnings.6_yrs_after_entry.median\":34300,\"2002.earnings.6_yrs_after_entry.median\":0,\"2001.earnings.6_yrs_after_entry.median\":0,\"2000.earnings.6_yrs_after_entry.median\":0,\"1999.earnings.6_yrs_after_entry.median\":0,\"1998.earnings.6_yrs_after_entry.median\":0,\"school.name\":\"University of Alabama at Birmingham\",\"school.city\":\"Birmingham\",\"id\":100663},{\"2022.earnings.6_yrs_after_entry.median\":0,\"2021.earnings.6_yrs_after_entry.median\":0,\"2020.earnings.6_yrs_after_entry.median\":30377,\"2019.earnings.6_yrs_after_entry.median\":0,\"2018.earnings.6_yrs_after_entry.median\":0,\"2017.earnings.6_yrs_after_entry.median\":0,\"2016.earnings.6_yrs_after_entry.median\":0,\"2015.earnings.6_yrs_after_entry.median\":0,\"2014.earnings.6_yrs_after_entry.median\":30700,\"2013.earnings.6_yrs_after_entry.median\":33200,\"2012.earnings.6_yrs_after_entry.median\":35200,\"2011.earnings.6_yrs_after_entry.median\":32800,\"2010.earnings.6_yrs_after_entry.median\":0,\"2009.earnings.6_yrs_after_entry.median\":34700,\"2008.earnings.6_yrs_after_entry.median\":0,\"2007.earnings.6_yrs_after_entry.median\":40100,\"2006.earnings.6_yrs_after_entry.median\":0,\"2005.earnings.6_yrs_after_entry.median\":40600,\"2004.earnings.6_yrs_after_entry.median\":0,\"2003.earnings.6_yrs_after_entry.median\":0,\"2002.earnings.6_yrs_after_entry.median\":0,\"2001.earnings.6_yrs_after_entry.median\":0,\"2000.earnings.6_yrs_after_entry.median\":0,\"1999.earnings.6_yrs_after_entry.median\":0,\"1998.earnings.6_yrs_after_entry.median\":0,\"school.name\":\"Amridge University\",\"school.city\":\"Montgomery\",\"id\":100690},{\"2022.earnings.6_yrs_after_entry.median\":0,\"2021.earnings.6_yrs_after_entry.median\":0,\"2020.earnings.6_yrs_after_entry.median\":55610,\"2019.earnings.6_yrs_after_entry.median\":0,\"2018.earnings.6_yrs_after_entry.median\":0,\"2017.earnings.6_yrs_after_entry.median\":0,\"2016.earnings.6_yrs_after_entry.median\":0,\"2015.earnings.6_yrs_after_entry.median\":0,\"2014.earnings.6_yrs_after_entry.median\":36200,\"2013.earnings.6_yrs_after_entry.median\":35500,\"2012.earnings.6_yrs_after_entry.median\":35900,\"2011.earnings.6_yrs_after_entry.median\":36700,\"2010.earnings.6_yrs_after_entry.median\":0,\"2009.earnings.6_yrs_after_entry.median\":38700,\"2008.earnings.6_yrs_after_entry.median\":0,\"2007.earnings.6_yrs_after_entry.median\":39800,\"2006.earnings.6_yrs_after_entry.median\":0,\"2005.earnings.6_yrs_after_entry.median\":37900,\"2004.earnings.6_yrs_after_entry.median\":0,\"2003.earnings.6_yrs_after_entry.median\":37400,\"2002.earnings.6_yrs_after_entry.median\":0,\"2001.earnings.6_yrs_after_entry.median\":0,\"2000.earnings.6_yrs_after_entry.median\":0,\"1999.earnings.6_yrs_after_entry.median\":0,\"1998.earnings.6_yrs_after_entry.median\":0,\"school.name\":\"University of Alabama in Huntsville\",\"school.city\":\"Huntsville\",\"id\":100706},{\"2022.earnings.6_yrs_after_entry.median\":0,\"2021.earnings.6_yrs_after_entry.median\":0,\"2020.earnings.6_yrs_after_entry.median\":27453,\"2019.earnings.6_yrs_after_entry.median\":0,\"2018.earnings.6_yrs_after_entry.median\":0,\"2017.earnings.6_yrs_after_entry.median\":0,\"2016.earnings.6_yrs_after_entry.median\":0,\"2015.earnings.6_yrs_after_entry.median\":0,\"2014.earnings.6_yrs_after_entry.median\":22600,\"2013.earnings.6_yrs_after_entry.median\":21000,\"2012.earnings.6_yrs_after_entry.median\":20300,\"2011.earnings.6_yrs_after_entry.median\":19300,\"2010.earnings.6_yrs_after_entry.median\":0,\"2009.earnings.6_yrs_after_entry.median\":20600,\"2008.earnings.6_yrs_after_entry.median\":0,\"2007.earnings.6_yrs_after_entry.median\":23700,\"2006.earnings.6_yrs_after_entry.median\":0,\"2005.earnings.6_yrs_after_entry.median\":22600,\"2004.earnings.6_yrs_after_entry.median\":0,\"2003.earnings.6_yrs_after_entry.median\":24000,\"2002.earnings.6_yrs_after_entry.median\":0,\"2001.earnings.6_yrs_after_entry.median\":0,\"2000.earnings.6_yrs_after_entry.median\":0,\"1999.earnings.6_yrs_after_entry.median\":0,\"1998.earnings.6_yrs_after_entry.median\":0,\"school.name\":\"Alabama State University\",\"school.city\":\"Montgomery\",\"id\":100724},{\"2022.earnings.6_yrs_after_entry.median\":0,\"2021.earnings.6_yrs_after_entry.median\":0,\"2020.earnings.6_yrs_after_entry.median\":52233,\"2019.earnings.6_yrs_after_entry.median\":0,\"2018.earnings.6_yrs_after_entry.median\":0,\"2017.earnings.6_yrs_after_entry.median\":0,\"2016.earnings.6_yrs_after_entry.median\":0,\"2015.earnings.6_yrs_after_entry.median\":0,\"2014.earnings.6_yrs_after_entry.median\":37400,\"2013.earnings.6_yrs_after_entry.median\":34800,\"2012.earnings.6_yrs_after_entry.median\":33200,\"2011.earnings.6_yrs_after_entry.median\":32900,\"2010.earnings.6_yrs_after_entry.median\":0,\"2009.earnings.6_yrs_after_entry.median\":35400,\"2008.earnings.6_yrs_after_entry.median\":0,\"2007.earnings.6_yrs_after_entry.median\":37500,\"2006.earnings.6_yrs_after_entry.median\":0,\"2005.earnings.6_yrs_after_entry.median\":35900,\"2004.earnings.6_yrs_after_entry.median\":0,\"2003.earnings.6_yrs_after_entry.median\":36000,\"2002.earnings.6_yrs_after_entry.median\":0,\"2001.earnings.6_yrs_after_entry.median\":0,\"2000.earnings.6_yrs_after_entry.median\":0,\"1999.earnings.6_yrs_after_entry.median\":0,\"1998.earnings.6_yrs_after_entry.median\":0,\"school.name\":\"The University of Alabama\",\"school.city\":\"Tuscaloosa\",\"id\":100751},{\"2022.earnings.6_yrs_after_entry.median\":0,\"2021.earnings.6_yrs_after_entry.median\":0,\"2020.earnings.6_yrs_after_entry.median\":30739,\"2019.earnings.6_yrs_after_entry.median\":0,\"2018.earnings.6_yrs_after_entry.median\":0,\"2017.earnings.6_yrs_after_entry.median\":0,\"2016.earnings.6_yrs_after_entry.median\":0,\"2015.earnings.6_yrs_after_entry.median\":0,\"2014.earnings.6_yrs_after_entry.median\":23100,\"2013.earnings.6_yrs_after_entry.median\":23500,\"2012.earnings.6_yrs_after_entry.median\":23800,\"2011.earnings.6_yrs_after_entry.median\":22700,\"2010.earnings.6_yrs_after_entry.median\":0,\"2009.earnings.6_yrs_after_entry.median\":23400,\"2008.earnings.6_yrs_after_entry.median\":0,\"2007.earnings.6_yrs_after_entry.median\":24800,\"2006.earnings.6_yrs_after_entry.median\":0,\"2005.earnings.6_yrs_after_entry.median\":23000,\"2004.earnings.6_yrs_after_entry.median\":0,\"2003.earnings.6_yrs_after_entry.median\":23200,\"2002.earnings.6_yrs_after_entry.median\":0,\"2001.earnings.6_yrs_after_entry.median\":0,\"2000.earnings.6_yrs_after_entry.median\":0,\"1999.earnings.6_yrs_after_entry.median\":0,\"1998.earnings.6_yrs_after_entry.median\":0,\"school.name\":\"Central Alabama Community College\",\"school.city\":\"Alexander City\",\"id\":100760},{\"2022.earnings.6_yrs_after_entry.median\":0,\"2021.earnings.6_yrs_after_entry.median\":0,\"2020.earnings.6_yrs_after_entry.median\":46266,\"2019.earnings.6_yrs_after_entry.median\":0,\"2018.earnings.6_yrs_after_entry.median\":0,\"2017.earnings.6_yrs_after_entry.median\":0,\"2016.earnings.6_yrs_after_entry.median\":0,\"2015.earnings.6_yrs_after_entry.median\":0,\"2014.earnings.6_yrs_after_entry.median\":33400,\"2013.earnings.6_yrs_after_entry.median\":32900,\"2012.earnings.6_yrs_after_entry.median\":33600,\"2011.earnings.6_yrs_after_entry.median\":33300,\"2010.earnings.6_yrs_after_entry.median\":0,\"2009.earnings.6_yrs_after_entry.median\":36400,\"2008.earnings.6_yrs_after_entry.median\":0,\"2007.earnings.6_yrs_after_entry.median\":37000,\"2006.earnings.6_yrs_after_entry.median\":0,\"2005.earnings.6_yrs_after_entry.median\":34900,\"2004.earnings.6_yrs_after_entry.median\":0,\"2003.earnings.6_yrs_after_entry.median\":36100,\"2002.earnings.6_yrs_after_entry.median\":0,\"2001.earnings.6_yrs_after_entry.median\":0,\"2000.earnings.6_yrs_after_entry.median\":0,\"1999.earnings.6_yrs_after_entry.median\":0,\"1998.earnings.6_yrs_after_entry.median\":0,\"school.name\":\"Athens State University\",\"school.city\":\"Athens\",\"id\":100812},{\"2022.earnings.6_yrs_after_entry.median\":0,\"2021.earnings.6_yrs_after_entry.median\":0,\"2020.earnings.6_yrs_after_entry.median\":38216,\"2019.earnings.6_yrs_after_entry.median\":0,\"2018.earnings.6_yrs_after_entry.median\":0,\"2017.earnings.6_yrs_after_entry.median\":0,\"2016.earnings.6_yrs_after_entry.median\":0,\"2015.earnings.6_yrs_after_entry.median\":0,\"2014.earnings.6_yrs_after_entry.median\":30100,\"2013.earnings.6_yrs_after_entry.median\":29900,\"2012.earnings.6_yrs_after_entry.median\":28300,\"2011.earnings.6_yrs_after_entry.median\":27500,\"2010.earnings.6_yrs_after_entry.median\":0,\"2009.earnings.6_yrs_after_entry.median\":31600,\"2008.earnings.6_yrs_after_entry.median\":0,\"2007.earnings.6_yrs_after_entry.median\":31300,\"2006.earnings.6_yrs_after_entry.median\":0,\"2005.earnings.6_yrs_after_entry.median\":31400,\"2004.earnings.6_yrs_after_entry.median\":0,\"2003.earnings.6_yrs_after_entry.median\":29800,\"2002.earnings.6_yrs_after_entry.median\":0,\"2001.earnings.6_yrs_after_entry.median\":0,\"2000.earnings.6_yrs_after_entry.median\":0,\"1999.earnings.6_yrs_after_entry.median\":0,\"1998.earnings.6_yrs_after_entry.median\":0,\"school.name\":\"Auburn University at Montgomery\",\"school.city\":\"Montgomery\",\"id\":100830},{\"2022.earnings.6_yrs_after_entry.median\":0,\"2021.earnings.6_yrs_after_entry.median\":0,\"2020.earnings.6_yrs_after_entry.median\":54629,\"2019.earnings.6_yrs_after_entry.median\":0,\"2018.earnings.6_yrs_after_entry.median\":0,\"2017.earnings.6_yrs_after_entry.median\":0,\"2016.earnings.6_yrs_after_entry.median\":0,\"2015.earnings.6_yrs_after_entry.median\":0,\"2014.earnings.6_yrs_after_entry.median\":39500,\"2013.earnings.6_yrs_after_entry.median\":37500,\"2012.earnings.6_yrs_after_entry.median\":36400,\"2011.earnings.6_yrs_after_entry.median\":35900,\"2010.earnings.6_yrs_after_entry.median\":0,\"2009.earnings.6_yrs_after_entry.median\":38700,\"2008.earnings.6_yrs_after_entry.median\":0,\"2007.earnings.6_yrs_after_entry.median\":40000,\"2006.earnings.6_yrs_after_entry.median\":0,\"2005.earnings.6_yrs_after_entry.median\":39500,\"2004.earnings.6_yrs_after_entry.median\":0,\"2003.earnings.6_yrs_after_entry.median\":39700,\"2002.earnings.6_yrs_after_entry.median\":0,\"2001.earnings.6_yrs_after_entry.median\":0,\"2000.earnings.6_yrs_after_entry.median\":0,\"1999.earnings.6_yrs_after_entry.median\":0,\"1998.earnings.6_yrs_after_entry.median\":0,\"school.name\":\"Auburn University\",\"school.city\":\"Auburn\",\"id\":100858},{\"2022.earnings.6_yrs_after_entry.median\":0,\"2021.earnings.6_yrs_after_entry.median\":0,\"2020.earnings.6_yrs_after_entry.median\":45229,\"2019.earnings.6_yrs_after_entry.median\":0,\"2018.earnings.6_yrs_after_entry.median\":0,\"2017.earnings.6_yrs_after_entry.median\":0,\"2016.earnings.6_yrs_after_entry.median\":0,\"2015.earnings.6_yrs_after_entry.median\":0,\"2014.earnings.6_yrs_after_entry.median\":33400,\"2013.earnings.6_yrs_after_entry.median\":32100,\"2012.earnings.6_yrs_after_entry.median\":26600,\"2011.earnings.6_yrs_after_entry.median\":26800,\"2010.earnings.6_yrs_after_entry.median\":0,\"2009.earnings.6_yrs_after_entry.median\":30500,\"2008.earnings.6_yrs_after_entry.median\":0,\"2007.earnings.6_yrs_after_entry.median\":35400,\"2006.earnings.6_yrs_after_entry.median\":0,\"2005.earnings.6_yrs_after_entry.median\":34200,\"2004.earnings.6_yrs_after_entry.median\":0,\"2003.earnings.6_yrs_after_entry.median\":39000,\"2002.earnings.6_yrs_after_entry.median\":0,\"2001.earnings.6_yrs_after_entry.median\":0,\"2000.earnings.6_yrs_after_entry.median\":0,\"1999.earnings.6_yrs_after_entry.median\":0,\"1998.earnings.6_yrs_after_entry.median\":0,\"school.name\":\"Birmingham-Southern College\",\"school.city\":\"Birmingham\",\"id\":100937},{\"2022.earnings.6_yrs_after_entry.median\":0,\"2021.earnings.6_yrs_after_entry.median\":0,\"2020.earnings.6_yrs_after_entry.median\":32196,\"2019.earnings.6_yrs_after_entry.median\":0,\"2018.earnings.6_yrs_after_entry.median\":0,\"2017.earnings.6_yrs_after_entry.median\":0,\"2016.earnings.6_yrs_after_entry.median\":0,\"2015.earnings.6_yrs_after_entry.median\":0,\"2014.earnings.6_yrs_after_entry.median\":22300,\"2013.earnings.6_yrs_after_entry.median\":22000,\"2012.earnings.6_yrs_after_entry.median\":21000,\"2011.earnings.6_yrs_after_entry.median\":21600,\"2010.earnings.6_yrs_after_entry.median\":0,\"2009.earnings.6_yrs_after_entry.median\":22600,\"2008.earnings.6_yrs_after_entry.median\":0,\"2007.earnings.6_yrs_after_entry.median\":23600,\"2006.earnings.6_yrs_after_entry.median\":0,\"2005.earnings.6_yrs_after_entry.median\":24600,\"2004.earnings.6_yrs_after_entry.median\":0,\"2003.earnings.6_yrs_after_entry.median\":24000,\"2002.earnings.6_yrs_after_entry.median\":0,\"2001.earnings.6_yrs_after_entry.median\":0,\"2000.earnings.6_yrs_after_entry.median\":0,\"1999.earnings.6_yrs_after_entry.median\":0,\"1998.earnings.6_yrs_after_entry.median\":0,\"school.name\":\"Chattahoochee Valley Community College\",\"school.city\":\"Phenix City\",\"id\":101028},{\"2022.earnings.6_yrs_after_entry.median\":0,\"2021.earnings.6_yrs_after_entry.median\":0,\"2020.earnings.6_yrs_after_entry.median\":34115,\"2019.earnings.6_yrs_after_entry.median\":0,\"2018.earnings.6_yrs_after_entry.median\":0,\"2017.earnings.6_yrs_after_entry.median\":0,\"2016.earnings.6_yrs_after_entry.median\":0,\"2015.earnings.6_yrs_after_entry.median\":0,\"2014.earnings.6_yrs_after_entry.median\":26900,\"2013.earnings.6_yrs_after_entry.median\":29300,\"2012.earnings.6_yrs_after_entry.median\":31300,\"2011.earnings.6_yrs_after_entry.median\":31600,\"2010.earnings.6_yrs_after_entry.median\":0,\"2009.earnings.6_yrs_after_entry.median\":27300,\"2008.earnings.6_yrs_after_entry.median\":0,\"2007.earnings.6_yrs_after_entry.median\":28900,\"2006.earnings.6_yrs_after_entry.median\":0,\"2005.earnings.6_yrs_after_entry.median\":27500,\"2004.earnings.6_yrs_after_entry.median\":0,\"2003.earnings.6_yrs_after_entry.median\":27700,\"2002.earnings.6_yrs_after_entry.median\":0,\"2001.earnings.6_yrs_after_entry.median\":0,\"2000.earnings.6_yrs_after_entry.median\":0,\"1999.earnings.6_yrs_after_entry.median\":0,\"1998.earnings.6_yrs_after_entry.median\":0,\"school.name\":\"South University-Montgomery\",\"school.city\":\"Montgomery\",\"id\":101116},{\"2022.earnings.6_yrs_after_entry.median\":0,\"2021.earnings.6_yrs_after_entry.median\":0,\"2020.earnings.6_yrs_after_entry.median\":32883,\"2019.earnings.6_yrs_after_entry.median\":0,\"2018.earnings.6_yrs_after_entry.median\":0,\"2017.earnings.6_yrs_after_entry.median\":0,\"2016.earnings.6_yrs_after_entry.median\":0,\"2015.earnings.6_yrs_after_entry.median\":0,\"2014.earnings.6_yrs_after_entry.median\":27000,\"2013.earnings.6_yrs_after_entry.median\":25800,\"2012.earnings.6_yrs_after_entry.median\":24700,\"2011.earnings.6_yrs_after_entry.median\":24100,\"2010.earnings.6_yrs_after_entry.median\":0,\"2009.earnings.6_yrs_after_entry.median\":25000,\"2008.earnings.6_yrs_after_entry.median\":0,\"2007.earnings.6_yrs_after_entry.median\":22500,\"2006.earnings.6_yrs_after_entry.median\":0,\"2005.earnings.6_yrs_after_entry.median\":22900,\"2004.earnings.6_yrs_after_entry.median\":0,\"2003.earnings.6_yrs_after_entry.median\":21300,\"2002.earnings.6_yrs_after_entry.median\":0,\"2001.earnings.6_yrs_after_entry.median\":0,\"2000.earnings.6_yrs_after_entry.median\":0,\"1999.earnings.6_yrs_after_entry.median\":0,\"1998.earnings.6_yrs_after_entry.median\":0,\"school.name\":\"Enterprise State Community College\",\"school.city\":\"Enterprise\",\"id\":101143},{\"2022.earnings.6_yrs_after_entry.median\":0,\"2021.earnings.6_yrs_after_entry.median\":0,\"2020.earnings.6_yrs_after_entry.median\":30808,\"2019.earnings.6_yrs_after_entry.median\":0,\"2018.earnings.6_yrs_after_entry.median\":0,\"2017.earnings.6_yrs_after_entry.median\":0,\"2016.earnings.6_yrs_after_entry.median\":0,\"2015.earnings.6_yrs_after_entry.median\":0,\"2014.earnings.6_yrs_after_entry.median\":23800,\"2013.earnings.6_yrs_after_entry.median\":23800,\"2012.earnings.6_yrs_after_entry.median\":23700,\"2011.earnings.6_yrs_after_entry.median\":22400,\"2010.earnings.6_yrs_after_entry.median\":0,\"2009.earnings.6_yrs_after_entry.median\":24300,\"2008.earnings.6_yrs_after_entry.median\":0,\"2007.earnings.6_yrs_after_entry.median\":24900,\"2006.earnings.6_yrs_after_entry.median\":0,\"2005.earnings.6_yrs_after_entry.median\":23500,\"2004.earnings.6_yrs_after_entry.median\":0,\"2003.earnings.6_yrs_after_entry.median\":22600,\"2002.earnings.6_yrs_after_entry.median\":0,\"2001.earnings.6_yrs_after_entry.median\":0,\"2000.earnings.6_yrs_after_entry.median\":0,\"1999.earnings.6_yrs_after_entry.median\":0,\"1998.earnings.6_yrs_after_entry.median\":0,\"school.name\":\"Coastal Alabama Community College\",\"school.city\":\"Bay Minette\",\"id\":101161},{\"2022.earnings.6_yrs_after_entry.median\":0,\"2021.earnings.6_yrs_after_entry.median\":0,\"2020.earnings.6_yrs_after_entry.median\":37313,\"2019.earnings.6_yrs_after_entry.median\":0,\"2018.earnings.6_yrs_after_entry.median\":0,\"2017.earnings.6_yrs_after_entry.median\":0,\"2016.earnings.6_yrs_after_entry.median\":0,\"2015.earnings.6_yrs_after_entry.median\":0,\"2014.earnings.6_yrs_after_entry.median\":29700,\"2013.earnings.6_yrs_after_entry.median\":29800,\"2012.earnings.6_yrs_after_entry.median\":29100,\"2011.earnings.6_yrs_after_entry.median\":30500,\"2010.earnings.6_yrs_after_entry.median\":0,\"2009.earnings.6_yrs_after_entry.median\":33600,\"2008.earnings.6_yrs_after_entry.median\":0,\"2007.earnings.6_yrs_after_entry.median\":34400,\"2006.earnings.6_yrs_after_entry.median\":0,\"2005.earnings.6_yrs_after_entry.median\":35000,\"2004.earnings.6_yrs_after_entry.median\":0,\"2003.earnings.6_yrs_after_entry.median\":31300,\"2002.earnings.6_yrs_after_entry.median\":0,\"2001.earnings.6_yrs_after_entry.median\":0,\"2000.earnings.6_yrs_after_entry.median\":0,\"1999.earnings.6_yrs_after_entry.median\":0,\"1998.earnings.6_yrs_after_entry.median\":0,\"school.name\":\"Faulkner University\",\"school.city\":\"Montgomery\",\"id\":101189},{\"2022.earnings.6_yrs_after_entry.median\":0,\"2021.earnings.6_yrs_after_entry.median\":0,\"2020.earnings.6_yrs_after_entry.median\":29795,\"2019.earnings.6_yrs_after_entry.median\":0,\"2018.earnings.6_yrs_after_entry.median\":0,\"2017.earnings.6_yrs_after_entry.median\":0,\"2016.earnings.6_yrs_after_entry.median\":0,\"2015.earnings.6_yrs_after_entry.median\":0,\"2014.earnings.6_yrs_after_entry.median\":21200,\"2013.earnings.6_yrs_after_entry.median\":19800,\"2012.earnings.6_yrs_after_entry.median\":20000,\"2011.earnings.6_yrs_after_entry.median\":20200,\"2010.earnings.6_yrs_after_entry.median\":0,\"2009.earnings.6_yrs_after_entry.median\":21500,\"2008.earnings.6_yrs_after_entry.median\":0,\"2007.earnings.6_yrs_after_entry.median\":23500,\"2006.earnings.6_yrs_after_entry.median\":0,\"2005.earnings.6_yrs_after_entry.median\":24300,\"2004.earnings.6_yrs_after_entry.median\":0,\"2003.earnings.6_yrs_after_entry.median\":23500,\"2002.earnings.6_yrs_after_entry.median\":0,\"2001.earnings.6_yrs_after_entry.median\":0,\"2000.earnings.6_yrs_after_entry.median\":0,\"1999.earnings.6_yrs_after_entry.median\":0,\"1998.earnings.6_yrs_after_entry.median\":0,\"school.name\":\"Gadsden State Community College\",\"school.city\":\"Gadsden\",\"id\":101240},{\"2022.earnings.6_yrs_after_entry.median\":0,\"2021.earnings.6_yrs_after_entry.median\":0,\"2020.earnings.6_yrs_after_entry.median\":15833,\"2019.earnings.6_yrs_after_entry.median\":0,\"2018.earnings.6_yrs_after_entry.median\":0,\"2017.earnings.6_yrs_after_entry.median\":0,\"2016.earnings.6_yrs_after_entry.median\":0,\"2015.earnings.6_yrs_after_entry.median\":0,\"2014.earnings.6_yrs_after_entry.median\":0,\"2013.earnings.6_yrs_after_entry.median\":0,\"2012.earnings.6_yrs_after_entry.median\":0,\"2011.earnings.6_yrs_after_entry.median\":0,\"school.name\":\"New Beginning College of Cosmetology\",\"school.city\":\"Albertville\",\"id\":101277,\"1998.earnings.6_yrs_after_entry.median\":null,\"2002.earnings.6_yrs_after_entry.median\":null,\"1999.earnings.6_yrs_after_entry.median\":null,\"2001.earnings.6_yrs_after_entry.median\":null,\"2010.earnings.6_yrs_after_entry.median\":null,\"2008.earnings.6_yrs_after_entry.median\":null,\"2000.earnings.6_yrs_after_entry.median\":null,\"2009.earnings.6_yrs_after_entry.median\":null,\"2004.earnings.6_yrs_after_entry.median\":null,\"2006.earnings.6_yrs_after_entry.median\":null,\"2003.earnings.6_yrs_after_entry.median\":null,\"2007.earnings.6_yrs_after_entry.median\":null,\"2005.earnings.6_yrs_after_entry.median\":null},{\"2022.earnings.6_yrs_after_entry.median\":0,\"2021.earnings.6_yrs_after_entry.median\":0,\"2020.earnings.6_yrs_after_entry.median\":28431,\"2019.earnings.6_yrs_after_entry.median\":0,\"2018.earnings.6_yrs_after_entry.median\":0,\"2017.earnings.6_yrs_after_entry.median\":0,\"2016.earnings.6_yrs_after_entry.median\":0,\"2015.earnings.6_yrs_after_entry.median\":0,\"2014.earnings.6_yrs_after_entry.median\":21400,\"2013.earnings.6_yrs_after_entry.median\":20500,\"2012.earnings.6_yrs_after_entry.median\":20700,\"2011.earnings.6_yrs_after_entry.median\":20800,\"2010.earnings.6_yrs_after_entry.median\":0,\"2009.earnings.6_yrs_after_entry.median\":21800,\"2008.earnings.6_yrs_after_entry.median\":0,\"2007.earnings.6_yrs_after_entry.median\":22600,\"2006.earnings.6_yrs_after_entry.median\":0,\"2005.earnings.6_yrs_after_entry.median\":24200,\"2004.earnings.6_yrs_after_entry.median\":0,\"2003.earnings.6_yrs_after_entry.median\":21800,\"2002.earnings.6_yrs_after_entry.median\":0,\"2001.earnings.6_yrs_after_entry.median\":0,\"2000.earnings.6_yrs_after_entry.median\":0,\"1999.earnings.6_yrs_after_entry.median\":0,\"1998.earnings.6_yrs_after_entry.median\":0,\"school.name\":\"George C Wallace Community College-Dothan\",\"school.city\":\"Dothan\",\"id\":101286},{\"2022.earnings.6_yrs_after_entry.median\":0,\"2021.earnings.6_yrs_after_entry.median\":0,\"2020.earnings.6_yrs_after_entry.median\":36129,\"2019.earnings.6_yrs_after_entry.median\":0,\"2018.earnings.6_yrs_after_entry.median\":0,\"2017.earnings.6_yrs_after_entry.median\":0,\"2016.earnings.6_yrs_after_entry.median\":0,\"2015.earnings.6_yrs_after_entry.median\":0,\"2014.earnings.6_yrs_after_entry.median\":26900,\"2013.earnings.6_yrs_after_entry.median\":26400,\"2012.earnings.6_yrs_after_entry.median\":25500,\"2011.earnings.6_yrs_after_entry.median\":25500,\"2010.earnings.6_yrs_after_entry.median\":0,\"2009.earnings.6_yrs_after_entry.median\":26300,\"2008.earnings.6_yrs_after_entry.median\":0,\"2007.earnings.6_yrs_after_entry.median\":25100,\"2006.earnings.6_yrs_after_entry.median\":0,\"2005.earnings.6_yrs_after_entry.median\":25200,\"2004.earnings.6_yrs_after_entry.median\":0,\"2003.earnings.6_yrs_after_entry.median\":23600,\"2002.earnings.6_yrs_after_entry.median\":0,\"2001.earnings.6_yrs_after_entry.median\":0,\"2000.earnings.6_yrs_after_entry.median\":0,\"1999.earnings.6_yrs_after_entry.median\":0,\"1998.earnings.6_yrs_after_entry.median\":0,\"school.name\":\"George C Wallace State Community College-Hanceville\",\"school.city\":\"Hanceville\",\"id\":101295}]}\n"
     ]
    }
   ],
   "source": [
    "import requests,json;\n",
    "from bs4 import BeautifulSoup;\n",
    "\n",
    "file_path = 'key.txt'\n",
    "\n",
    "with open(file_path, 'r') as file:\n",
    "    key = file.read()\n",
    "urlBase = f'https://api.data.gov/ed/collegescorecard/v1/schools?api_key={key}&fields=';\n",
    "\n",
    "desiredAttributes = {'id','school.name', 'school.city', 'carnegie_basic'}\n",
    "desiredAttributesNeedYear = {'compleation.completion_rate_4yr_150nt','earnings.6_yrs_after_entry.median'}\n",
    "desiredYearsStart = 1998\n",
    "desiredYearsEnd = 2023\n",
    "\n",
    "for i in range(desiredYearsStart, desiredYearsEnd):\n",
    "    for attribute in desiredAttributesNeedYear:\n",
    "        desiredAttributes.add(f'{i}.' + attribute)\n",
    "\n",
    "\n",
    "\n",
    "url = urlBase + ','.join(desiredAttributes)\n",
    "\n",
    "\n",
    "response = requests.get(url)\n",
    "print(response.text)"
   ]
  },
  {
   "cell_type": "code",
   "execution_count": 5,
   "id": "5afa3643-b23a-472c-825f-7416fcdeeaac",
   "metadata": {},
   "outputs": [
    {
     "data": {
      "text/html": [
       "<div>\n",
       "<style scoped>\n",
       "    .dataframe tbody tr th:only-of-type {\n",
       "        vertical-align: middle;\n",
       "    }\n",
       "\n",
       "    .dataframe tbody tr th {\n",
       "        vertical-align: top;\n",
       "    }\n",
       "\n",
       "    .dataframe thead th {\n",
       "        text-align: right;\n",
       "    }\n",
       "</style>\n",
       "<table border=\"1\" class=\"dataframe\">\n",
       "  <thead>\n",
       "    <tr style=\"text-align: right;\">\n",
       "      <th></th>\n",
       "      <th>0</th>\n",
       "    </tr>\n",
       "  </thead>\n",
       "  <tbody>\n",
       "    <tr>\n",
       "      <th>0</th>\n",
       "      <td>b'{\"metadata\":{\"page\":0,\"total\":6484,\"per_page...</td>\n",
       "    </tr>\n",
       "    <tr>\n",
       "      <th>1</th>\n",
       "      <td>b'ter_entry.median\":0,\"2020.earnings.6_yrs_aft...</td>\n",
       "    </tr>\n",
       "    <tr>\n",
       "      <th>2</th>\n",
       "      <td>b'rs_after_entry.median\":0,\"2017.earnings.6_yr...</td>\n",
       "    </tr>\n",
       "    <tr>\n",
       "      <th>3</th>\n",
       "      <td>b'yrs_after_entry.median\":0,\"2014.earnings.6_y...</td>\n",
       "    </tr>\n",
       "    <tr>\n",
       "      <th>4</th>\n",
       "      <td>b'rnings.6_yrs_after_entry.median\":22000,\"2011...</td>\n",
       "    </tr>\n",
       "    <tr>\n",
       "      <th>...</th>\n",
       "      <td>...</td>\n",
       "    </tr>\n",
       "    <tr>\n",
       "      <th>183</th>\n",
       "      <td>b'ry.median\":26300,\"2008.earnings.6_yrs_after_...</td>\n",
       "    </tr>\n",
       "    <tr>\n",
       "      <th>184</th>\n",
       "      <td>b'after_entry.median\":0,\"2005.earnings.6_yrs_a...</td>\n",
       "    </tr>\n",
       "    <tr>\n",
       "      <th>185</th>\n",
       "      <td>b'_yrs_after_entry.median\":23600,\"2002.earning...</td>\n",
       "    </tr>\n",
       "    <tr>\n",
       "      <th>186</th>\n",
       "      <td>b'ngs.6_yrs_after_entry.median\":0,\"1999.earnin...</td>\n",
       "    </tr>\n",
       "    <tr>\n",
       "      <th>187</th>\n",
       "      <td>b'me\":\"George C Wallace State Community Colleg...</td>\n",
       "    </tr>\n",
       "  </tbody>\n",
       "</table>\n",
       "<p>188 rows × 1 columns</p>\n",
       "</div>"
      ],
      "text/plain": [
       "                                                     0\n",
       "0    b'{\"metadata\":{\"page\":0,\"total\":6484,\"per_page...\n",
       "1    b'ter_entry.median\":0,\"2020.earnings.6_yrs_aft...\n",
       "2    b'rs_after_entry.median\":0,\"2017.earnings.6_yr...\n",
       "3    b'yrs_after_entry.median\":0,\"2014.earnings.6_y...\n",
       "4    b'rnings.6_yrs_after_entry.median\":22000,\"2011...\n",
       "..                                                 ...\n",
       "183  b'ry.median\":26300,\"2008.earnings.6_yrs_after_...\n",
       "184  b'after_entry.median\":0,\"2005.earnings.6_yrs_a...\n",
       "185  b'_yrs_after_entry.median\":23600,\"2002.earning...\n",
       "186  b'ngs.6_yrs_after_entry.median\":0,\"1999.earnin...\n",
       "187  b'me\":\"George C Wallace State Community Colleg...\n",
       "\n",
       "[188 rows x 1 columns]"
      ]
     },
     "execution_count": 5,
     "metadata": {},
     "output_type": "execute_result"
    }
   ],
   "source": [
    "import pandas as pd\n",
    "df = pd.DataFrame(response)\n",
    "df"
   ]
  },
  {
   "cell_type": "markdown",
   "id": "24737935-1ddb-4da1-ae0d-0027504b8b67",
   "metadata": {},
   "source": [
    "The gathered categorical and ID data will be used to sort or filter colleges by city and type, as well as to help label and identify each college for the user. The completion rate and earnings data will be used to train an ML model to predict individual colleges' statistics in upcoming years. These specific statistics will help answer the key questions mentioned above by helping quantify the differences between colleges. This, in turn, will provide useful insight into the college decision process, and help the client better understand and compare their options. "
   ]
  }
 ],
 "metadata": {
  "kernelspec": {
   "display_name": "Python 3 (ipykernel)",
   "language": "python",
   "name": "python3"
  },
  "language_info": {
   "codemirror_mode": {
    "name": "ipython",
    "version": 3
   },
   "file_extension": ".py",
   "mimetype": "text/x-python",
   "name": "python",
   "nbconvert_exporter": "python",
   "pygments_lexer": "ipython3",
   "version": "3.12.4"
  }
 },
 "nbformat": 4,
 "nbformat_minor": 5
}
