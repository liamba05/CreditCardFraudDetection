{
 "cells": [
  {
   "cell_type": "code",
   "execution_count": 14,
   "id": "24695212-1a9f-4a91-9cf2-605ca3d61654",
   "metadata": {},
   "outputs": [
    {
     "name": "stdout",
     "output_type": "stream",
     "text": [
      "mkdir: /Users/owemarco/.kaggle: File exists\n",
      "mv: rename kaggle.json to /Users/owemarco/.kaggle/kaggle.json: No such file or directory\n",
      "chmod: /Users/owemarco/.kaggle/kaggle.json: No such file or directory\n",
      "Dataset URL: https://www.kaggle.com/datasets/kartik2112/fraud-detection\n",
      "License(s): CC0-1.0\n",
      "Downloading fraud-detection.zip to /Users/owemarco/Documents/GitHub/FinalExamPredictor/data\n",
      "100%|████████████████████████████████████████| 202M/202M [00:10<00:00, 18.2MB/s]\n",
      "100%|████████████████████████████████████████| 202M/202M [00:10<00:00, 20.6MB/s]\n",
      "Archive:  fraud-detection.zip\n",
      "  inflating: fraudTest.csv           \n",
      "  inflating: fraudTrain.csv          \n"
     ]
    },
    {
     "ename": "OSError",
     "evalue": "Could not find kaggle.json. Make sure it's located in /Users/owemarco/.kaggle. Or use the environment method. See setup instructions at https://github.com/Kaggle/kaggle-api/",
     "output_type": "error",
     "traceback": [
      "\u001b[0;31m---------------------------------------------------------------------------\u001b[0m",
      "\u001b[0;31mOSError\u001b[0m                                   Traceback (most recent call last)",
      "Cell \u001b[0;32mIn[14], line 11\u001b[0m\n\u001b[1;32m      8\u001b[0m \u001b[38;5;28;01mfrom\u001b[39;00m \u001b[38;5;21;01mkaggle\u001b[39;00m\u001b[38;5;21;01m.\u001b[39;00m\u001b[38;5;21;01mapi\u001b[39;00m\u001b[38;5;21;01m.\u001b[39;00m\u001b[38;5;21;01mkaggle_api_extended\u001b[39;00m \u001b[38;5;28;01mimport\u001b[39;00m KaggleApi\n\u001b[1;32m     10\u001b[0m api \u001b[38;5;241m=\u001b[39m KaggleApi()\n\u001b[0;32m---> 11\u001b[0m \u001b[43mapi\u001b[49m\u001b[38;5;241;43m.\u001b[39;49m\u001b[43mauthenticate\u001b[49m\u001b[43m(\u001b[49m\u001b[43m)\u001b[49m\n\u001b[1;32m     13\u001b[0m \u001b[38;5;66;03m# Download the dataset\u001b[39;00m\n\u001b[1;32m     14\u001b[0m api\u001b[38;5;241m.\u001b[39mdataset_download_files(\u001b[38;5;124m'\u001b[39m\u001b[38;5;124mlainguyn123/student-performance-factors\u001b[39m\u001b[38;5;124m'\u001b[39m, path\u001b[38;5;241m=\u001b[39m\u001b[38;5;124m'\u001b[39m\u001b[38;5;124m./\u001b[39m\u001b[38;5;124m'\u001b[39m, unzip\u001b[38;5;241m=\u001b[39m\u001b[38;5;28;01mTrue\u001b[39;00m)\n",
      "File \u001b[0;32m/opt/miniconda3/lib/python3.12/site-packages/kaggle/api/kaggle_api_extended.py:407\u001b[0m, in \u001b[0;36mKaggleApi.authenticate\u001b[0;34m(self)\u001b[0m\n\u001b[1;32m    405\u001b[0m         \u001b[38;5;28;01mreturn\u001b[39;00m\n\u001b[1;32m    406\u001b[0m     \u001b[38;5;28;01melse\u001b[39;00m:\n\u001b[0;32m--> 407\u001b[0m         \u001b[38;5;28;01mraise\u001b[39;00m \u001b[38;5;167;01mIOError\u001b[39;00m(\u001b[38;5;124m'\u001b[39m\u001b[38;5;124mCould not find \u001b[39m\u001b[38;5;132;01m{}\u001b[39;00m\u001b[38;5;124m. Make sure it\u001b[39m\u001b[38;5;130;01m\\'\u001b[39;00m\u001b[38;5;124ms located in\u001b[39m\u001b[38;5;124m'\u001b[39m\n\u001b[1;32m    408\u001b[0m                       \u001b[38;5;124m'\u001b[39m\u001b[38;5;124m \u001b[39m\u001b[38;5;132;01m{}\u001b[39;00m\u001b[38;5;124m. Or use the environment method. See setup\u001b[39m\u001b[38;5;124m'\u001b[39m\n\u001b[1;32m    409\u001b[0m                       \u001b[38;5;124m'\u001b[39m\u001b[38;5;124m instructions at\u001b[39m\u001b[38;5;124m'\u001b[39m\n\u001b[1;32m    410\u001b[0m                       \u001b[38;5;124m'\u001b[39m\u001b[38;5;124m https://github.com/Kaggle/kaggle-api/\u001b[39m\u001b[38;5;124m'\u001b[39m\u001b[38;5;241m.\u001b[39mformat(\n\u001b[1;32m    411\u001b[0m                           \u001b[38;5;28mself\u001b[39m\u001b[38;5;241m.\u001b[39mconfig_file, \u001b[38;5;28mself\u001b[39m\u001b[38;5;241m.\u001b[39mconfig_dir))\n\u001b[1;32m    413\u001b[0m \u001b[38;5;66;03m# Step 3: load into configuration!\u001b[39;00m\n\u001b[1;32m    414\u001b[0m \u001b[38;5;28mself\u001b[39m\u001b[38;5;241m.\u001b[39m_load_config(config_data)\n",
      "\u001b[0;31mOSError\u001b[0m: Could not find kaggle.json. Make sure it's located in /Users/owemarco/.kaggle. Or use the environment method. See setup instructions at https://github.com/Kaggle/kaggle-api/"
     ]
    }
   ],
   "source": [
    "! mkdir ~/.kaggle\n",
    "! mv kaggle.json ~/.kaggle/\n",
    "! chmod 600 ~/.kaggle/kaggle.json\n",
    "\n",
    "!kaggle datasets download -d kartik2112/fraud-detection\n",
    "!unzip fraud-detection.zip\n",
    "\n",
    "# from kaggle.api.kaggle_api_extended import KaggleApi\n",
    "\n",
    "# api = KaggleApi()\n",
    "# api.authenticate()\n",
    "\n",
    "# # Download the dataset\n",
    "# api.dataset_download_files('lainguyn123/student-performance-factors', path='./', unzip=True)"
   ]
  },
  {
   "cell_type": "code",
   "execution_count": 15,
   "id": "5f6265a5-f6e3-4724-8039-e99bb9d6906e",
   "metadata": {},
   "outputs": [
    {
     "name": "stderr",
     "output_type": "stream",
     "text": [
      "/var/folders/xs/lp5sspvn6rg3gv4md2_3ypzr0000gn/T/ipykernel_70451/1945150088.py:15: FutureWarning: Downcasting behavior in `replace` is deprecated and will be removed in a future version. To retain the old behavior, explicitly call `result.infer_objects(copy=False)`. To opt-in to the future behavior, set `pd.set_option('future.no_silent_downcasting', True)`\n",
      "  test_df['gender'] = test_df['gender'].replace({'M': 0, 'F': 1})\n"
     ]
    },
    {
     "name": "stdout",
     "output_type": "stream",
     "text": [
      "                         merchant        category    amt  gender      lat  \\\n",
      "0                 Kirlin and Sons   personal_care   2.86       0  33.9659   \n",
      "1                  Sporer-Keebler   personal_care  29.84       1  40.3207   \n",
      "2  Swaniawski, Nitzsche and Welch  health_fitness  41.28       1  40.6729   \n",
      "3                     Haley Group        misc_pos  60.05       0  28.5697   \n",
      "4                 Johnston-Casper          travel   3.19       0  44.2529   \n",
      "\n",
      "       long         dob  is_fraud  \n",
      "0  -80.9355  1968-03-19         0  \n",
      "1 -110.4360  1990-01-17         0  \n",
      "2  -73.5365  1970-10-21         0  \n",
      "3  -80.8191  1987-07-25         0  \n",
      "4  -85.0170  1955-07-06         0  \n",
      "                       merchant       category     amt  gender      lat  \\\n",
      "0          Rippin, Kub and Mann       misc_net    4.97       1  36.0788   \n",
      "1     Heller, Gutmann and Zieme    grocery_pos  107.23       1  48.8878   \n",
      "2                Lind-Buckridge  entertainment  220.11       0  42.1808   \n",
      "3  Kutch, Hermiston and Farrell  gas_transport   45.00       0  46.2306   \n",
      "4                 Keeling-Crist       misc_pos   41.96       0  38.4207   \n",
      "\n",
      "       long         dob  is_fraud  \n",
      "0  -81.1781  1988-03-09         0  \n",
      "1 -118.2105  1978-06-21         0  \n",
      "2 -112.2620  1962-01-19         0  \n",
      "3 -112.1138  1967-01-12         0  \n",
      "4  -79.4629  1986-03-28         0  \n"
     ]
    },
    {
     "name": "stderr",
     "output_type": "stream",
     "text": [
      "/var/folders/xs/lp5sspvn6rg3gv4md2_3ypzr0000gn/T/ipykernel_70451/1945150088.py:16: FutureWarning: Downcasting behavior in `replace` is deprecated and will be removed in a future version. To retain the old behavior, explicitly call `result.infer_objects(copy=False)`. To opt-in to the future behavior, set `pd.set_option('future.no_silent_downcasting', True)`\n",
      "  train_df['gender'] = train_df['gender'].replace({'M': 0, 'F': 1})\n"
     ]
    }
   ],
   "source": [
    "import pandas as pd\n",
    "\n",
    "# read in the data files that were downloaded and save as df\n",
    "test_df = pd.read_csv('fraudTest.csv')\n",
    "train_df = pd.read_csv('fraudTrain.csv')\n",
    "\n",
    "# remove columns to clean df\n",
    "column_keep = ['merchant', 'category', 'amt', 'gender', 'lat', 'long', 'dob', 'is_fraud']\n",
    "\n",
    "# clean merchant column\n",
    "test_df['merchant'] = test_df['merchant'].str.split('_').str[1]\n",
    "train_df['merchant'] = train_df['merchant'].str.split('_').str[1]\n",
    "\n",
    "# one end code gender\n",
    "test_df['gender'] = test_df['gender'].replace({'M': 0, 'F': 1})\n",
    "train_df['gender'] = train_df['gender'].replace({'M': 0, 'F': 1})\n",
    "\n",
    "# Create a new DataFrame with only the selected columns\n",
    "test_df = test_df[column_keep]\n",
    "train_df = train_df[column_keep]\n",
    "\n",
    "# If you want to update the existing DataFrame\n",
    "#df = df[columns_to_keep]\n",
    "\n",
    "# display the dfs\n",
    "print(test_df.head())\n",
    "print(train_df.head())"
   ]
  },
  {
   "cell_type": "code",
   "execution_count": null,
   "id": "73cde92a-df3e-4fdd-b162-af341c0a4d21",
   "metadata": {},
   "outputs": [],
   "source": []
  }
 ],
 "metadata": {
  "kernelspec": {
   "display_name": "Python 3 (ipykernel)",
   "language": "python",
   "name": "python3"
  },
  "language_info": {
   "codemirror_mode": {
    "name": "ipython",
    "version": 3
   },
   "file_extension": ".py",
   "mimetype": "text/x-python",
   "name": "python",
   "nbconvert_exporter": "python",
   "pygments_lexer": "ipython3",
   "version": "3.12.4"
  }
 },
 "nbformat": 4,
 "nbformat_minor": 5
}
