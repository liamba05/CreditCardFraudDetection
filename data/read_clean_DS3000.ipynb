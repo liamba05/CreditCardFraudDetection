{
 "cells": [
  {
   "cell_type": "code",
   "execution_count": 1,
   "id": "24695212-1a9f-4a91-9cf2-605ca3d61654",
   "metadata": {},
   "outputs": [
    {
     "name": "stdout",
     "output_type": "stream",
     "text": [
      "mkdir: /Users/quillalewine/.kaggle: File exists\n",
      "mv: kaggle.json: No such file or directory\n",
      "Dataset URL: https://www.kaggle.com/datasets/kartik2112/fraud-detection\n",
      "License(s): CC0-1.0\n",
      "Downloading fraud-detection.zip to /Users/quillalewine\n",
      "100%|████████████████████████████████████████| 202M/202M [01:14<00:00, 1.28MB/s]\n",
      "100%|████████████████████████████████████████| 202M/202M [01:14<00:00, 2.86MB/s]\n",
      "Archive:  fraud-detection.zip\n",
      "  inflating: fraudTest.csv           \n",
      "  inflating: fraudTrain.csv          \n"
     ]
    }
   ],
   "source": [
    "! mkdir ~/.kaggle\n",
    "! mv kaggle.json ~/.kaggle/\n",
    "! chmod 600 ~/.kaggle/kaggle.json\n",
    "\n",
    "!kaggle datasets download -d kartik2112/fraud-detection\n",
    "!unzip fraud-detection.zip\n",
    "\n",
    "# from kaggle.api.kaggle_api_extended import KaggleApi\n",
    "\n",
    "# api = KaggleApi()\n",
    "# api.authenticate()\n",
    "\n",
    "# # Download the dataset\n",
    "# api.dataset_download_files('lainguyn123/student-performance-factors', path='./', unzip=True)"
   ]
  },
  {
   "cell_type": "code",
   "execution_count": 35,
   "id": "5f6265a5-f6e3-4724-8039-e99bb9d6906e",
   "metadata": {},
   "outputs": [
    {
     "name": "stderr",
     "output_type": "stream",
     "text": [
      "/var/folders/s0/vnwhv97d20qb4hc0bkqyt61c0000gn/T/ipykernel_36846/928148763.py:15: FutureWarning: Downcasting behavior in `replace` is deprecated and will be removed in a future version. To retain the old behavior, explicitly call `result.infer_objects(copy=False)`. To opt-in to the future behavior, set `pd.set_option('future.no_silent_downcasting', True)`\n",
      "  test_df['gender'] = test_df['gender'].replace({'M': 0, 'F': 1})\n",
      "/var/folders/s0/vnwhv97d20qb4hc0bkqyt61c0000gn/T/ipykernel_36846/928148763.py:16: FutureWarning: Downcasting behavior in `replace` is deprecated and will be removed in a future version. To retain the old behavior, explicitly call `result.infer_objects(copy=False)`. To opt-in to the future behavior, set `pd.set_option('future.no_silent_downcasting', True)`\n",
      "  train_df['gender'] = train_df['gender'].replace({'M': 0, 'F': 1})\n"
     ]
    },
    {
     "name": "stdout",
     "output_type": "stream",
     "text": [
      "                         merchant        category    amt  gender      lat  \\\n",
      "0                 Kirlin and Sons   personal_care   2.86       0  33.9659   \n",
      "1                  Sporer-Keebler   personal_care  29.84       1  40.3207   \n",
      "2  Swaniawski, Nitzsche and Welch  health_fitness  41.28       1  40.6729   \n",
      "3                     Haley Group        misc_pos  60.05       0  28.5697   \n",
      "4                 Johnston-Casper          travel   3.19       0  44.2529   \n",
      "\n",
      "       long         dob  \n",
      "0  -80.9355  1968-03-19  \n",
      "1 -110.4360  1990-01-17  \n",
      "2  -73.5365  1970-10-21  \n",
      "3  -80.8191  1987-07-25  \n",
      "4  -85.0170  1955-07-06  \n",
      "                       merchant       category     amt  gender      lat  \\\n",
      "0          Rippin, Kub and Mann       misc_net    4.97       1  36.0788   \n",
      "1     Heller, Gutmann and Zieme    grocery_pos  107.23       1  48.8878   \n",
      "2                Lind-Buckridge  entertainment  220.11       0  42.1808   \n",
      "3  Kutch, Hermiston and Farrell  gas_transport   45.00       0  46.2306   \n",
      "4                 Keeling-Crist       misc_pos   41.96       0  38.4207   \n",
      "\n",
      "       long         dob  \n",
      "0  -81.1781  1988-03-09  \n",
      "1 -118.2105  1978-06-21  \n",
      "2 -112.2620  1962-01-19  \n",
      "3 -112.1138  1967-01-12  \n",
      "4  -79.4629  1986-03-28  \n"
     ]
    }
   ],
   "source": [
    "import pandas as pd\n",
    "\n",
    "# read in the data files that were downloaded and save as df\n",
    "test_df = pd.read_csv('fraudTest.csv')\n",
    "train_df = pd.read_csv('fraudTrain.csv')\n",
    "\n",
    "# remove columns to clean df\n",
    "column_keep = ['merchant', 'category', 'amt', 'gender', 'lat', 'long', 'dob']\n",
    "\n",
    "# clean merchant column\n",
    "test_df['merchant'] = test_df['merchant'].str.split('_').str[1]\n",
    "train_df['merchant'] = train_df['merchant'].str.split('_').str[1]\n",
    "\n",
    "# one end code gender\n",
    "test_df['gender'] = test_df['gender'].replace({'M': 0, 'F': 1})\n",
    "train_df['gender'] = train_df['gender'].replace({'M': 0, 'F': 1})\n",
    "\n",
    "# Create a new DataFrame with only the selected columns\n",
    "test_df = test_df[column_keep]\n",
    "train_df = train_df[column_keep]\n",
    "\n",
    "# If you want to update the existing DataFrame\n",
    "#df = df[columns_to_keep]\n",
    "\n",
    "# display the dfs\n",
    "print(test_df.head())\n",
    "print(train_df.head())"
   ]
  },
  {
   "cell_type": "code",
   "execution_count": null,
   "id": "73cde92a-df3e-4fdd-b162-af341c0a4d21",
   "metadata": {},
   "outputs": [],
   "source": []
  }
 ],
 "metadata": {
  "kernelspec": {
   "display_name": "Python 3 (ipykernel)",
   "language": "python",
   "name": "python3"
  },
  "language_info": {
   "codemirror_mode": {
    "name": "ipython",
    "version": 3
   },
   "file_extension": ".py",
   "mimetype": "text/x-python",
   "name": "python",
   "nbconvert_exporter": "python",
   "pygments_lexer": "ipython3",
   "version": "3.12.4"
  }
 },
 "nbformat": 4,
 "nbformat_minor": 5
}
