{
 "cells": [
  {
   "cell_type": "markdown",
   "id": "161fa0fc-8a1f-4eb2-9547-2f69a4f6dd3d",
   "metadata": {},
   "source": [
    "## Phase I Project Proposal\n",
    "### Semaglutide (Ozempic) Adverse Effect Reports: What makes you more susceptible to side effects?\n",
    "\n",
    "#### Name: Quillian Alewine, DS 3000\n"
   ]
  },
  {
   "cell_type": "markdown",
   "id": "78116c9a-897a-4998-a17d-23339313cd69",
   "metadata": {},
   "source": [
    "### Introduction\n",
    "#### Weight-loss drugs such as Ozempic (or Wegovy), formally known as semaglutide, have increase 400 % in popularity between 2021 and 2023, especially in US southern states. Marketed as a drug for diabetes, these drugs are injectable methods of releasing a hormone used to slow down digestion, thus limiting the hunger a person feels. The supression of hunger leads to weightloss, however, these drugs can result in many unfortunate side effects. \n",
    "\n",
    "#### The most common side effects of semaglutide include \"nausea, stomach pain, constipation, diarrhea and vomiting\" and can lessen over time, however, up to 10% of patients do not expereince lesser side effects, forcing them to stop recieving the medicaiton. Intensinal tissues connect the abdomen and brain, thus prolonged side-effects from taking the drug can cause paitents to feel extreme anxiety and depression. More extreme side effects include \"thyroid tumors, pancreatitis, changes in vision, hypoglycemia, gallbladder issues, kidney failure and cancer\" where pancreatitis and gallbladder issues... can lead to hospitalization\". The long term side effects of these drugs is still uknown.\n",
    "#### Citations: (Ozempic in America), (Medzerian), (Ozempic Side Effects Could Lead to Hospitalization — and Doctors Warn That Long-Term Impacts Remain Unknown - CBS News)\n",
    "\n",
    "### Proposal Explanation\n",
    "#### Using the API key from openFDA, I have retrieved data pertaining to adverse event reports for semaglutide, which inlcudes pateint age, weight, country of origin, seriousness of side effect (including hospitalization and death), and the date of which this occured. Alternative research has shown that pateint characteristics (such as age, previous illness, etc.) impact ones likeliness to expereince side effects of any drug, and the severity of said side effects. With this data I hope to better understand the following:\n",
    "#### 1. Are drug adverse events more common in older patients who take semaglutide drugs?\n",
    "#### 2. Is there a correlation to weight and an occurence of a drug adverse event for those taking semaglutide?\n",
    "\n",
    "#### I will be able to analyze the correlation of age and weight to the severity of the drug effect, which could in the future, be used to create a predictive model alogrithm using linear regression. I could then use this model to estimate the likelihood of an individual experiencing side effects, and if so, the intensity of those side effects. Further cleaning of this data is required to prusure this final iniative. Specifically, I would need to clean the patient weight data due to the presecense of many NaNs, and I would need to identify the string that corresponds to row inputs (under severity columns) that are currently denoted  with \"1, 2, 3...\" by using the reference key found on the openFDA website."
   ]
  },
  {
   "cell_type": "code",
   "execution_count": 36,
   "id": "8d0df181-dfa5-4b83-ab14-bcf7a84859ba",
   "metadata": {},
   "outputs": [],
   "source": [
    "import requests\n",
    "import pandas as pd\n",
    "\n",
    "# define url for the openFDA Drug Endpoint (Adverse Effects)\n",
    "url = 'https://api.fda.gov/drug/event.json'\n",
    "\n",
    "# define data parameters: API key, the number of data records desired, the drug Ozempic (aka 'semaglutide')\n",
    "params = {'api_key' : 'YFd4lj4IeG30pfwbGL45jsH001khME9eIowPvbvG',\n",
    "          'limit' : 100,\n",
    "          'search': 'Semaglutide'}\n",
    "\n",
    "\n",
    "# access and read in the json file data\n",
    "response = requests.get(url, params = params)\n",
    "data = response.json()\n",
    "\n",
    "\n"
   ]
  },
  {
   "cell_type": "code",
   "execution_count": 128,
   "id": "32d6d744-98fc-47b7-bc90-6c712e2b7577",
   "metadata": {},
   "outputs": [
    {
     "name": "stdout",
     "output_type": "stream",
     "text": [
      "   safetyreportid patient.patientonsetage patient.patientweight occurcountry  \\\n",
      "1        10398782                      67                    79           US   \n",
      "3        11421842                      40                   130          NaN   \n",
      "7        12444539                      68                68.934           US   \n",
      "13       12656566                      75                  40.8           CA   \n",
      "16       12956582                      40                    94           CA   \n",
      "20       13251688                      50                    84           US   \n",
      "21       13393462                      66                  69.4           US   \n",
      "22       13435584                      64                    99           US   \n",
      "23       13473895                      58                  83.4           US   \n",
      "24       13540713                      68                    78           CA   \n",
      "28       13715717                      50                   110           CA   \n",
      "33       13977432                      18                   102           US   \n",
      "36       14330643                      69                 74.83           US   \n",
      "44       14541803                      46                179.59           US   \n",
      "47       14599778                      46                 97.52           US   \n",
      "57       14654815                      55                 93.42           US   \n",
      "58       14654816                      62                 58.97           US   \n",
      "59       14654817                      43                  70.3           US   \n",
      "65       14706699                      56                   201           US   \n",
      "74       14814336                      23                118.82           US   \n",
      "75       14847628                      66                117.46           US   \n",
      "76       14891080                      55                 102.4           US   \n",
      "77       14891137                      67                117.91           US   \n",
      "79       14894415                   16882                 173.3          NaN   \n",
      "81       14933003                      49                107.95           US   \n",
      "82       14938568                      58                   103           CA   \n",
      "89       14979355                      46                115.65           US   \n",
      "91       14996258                      47                    93           BR   \n",
      "94       15005745                      20                 79.37           US   \n",
      "95       15007451                      57                 69.84           US   \n",
      "\n",
      "   serious transmissiondate  \n",
      "1        2         20220721  \n",
      "3        1         20231028  \n",
      "7        2         20220720  \n",
      "13       1         20200409  \n",
      "16       1         20230113  \n",
      "20       2         20210419  \n",
      "21       2         20220721  \n",
      "22       2         20211014  \n",
      "23       1         20170830  \n",
      "24       1         20220304  \n",
      "28       1         20240716  \n",
      "33       1         20231028  \n",
      "36       1         20190417  \n",
      "44       1         20180509  \n",
      "47       1         20181010  \n",
      "57       2         20180509  \n",
      "58       2         20180509  \n",
      "59       1         20180509  \n",
      "65       1         20240410  \n",
      "74       1         20180711  \n",
      "75       1         20190204  \n",
      "76       1         20180711  \n",
      "77       1         20180711  \n",
      "79       1         20230112  \n",
      "81       2         20210113  \n",
      "82       1         20190204  \n",
      "89       1         20180711  \n",
      "91       1         20190204  \n",
      "94       1         20180711  \n",
      "95       1         20181010  \n"
     ]
    }
   ],
   "source": [
    "# output filtered results only (the wholistic data is broken into metadata and results but we only need results)\n",
    "results = data['results']\n",
    "df = pd.json_normalize(results)\n",
    "df_filter_1 = ['safetyreportid','patient.patientonsetage','patient.patientweight', 'occurcountry', 'serious', 'transmissiondate']\n",
    "output = df[df_filter_1]\n",
    "\n",
    "#df_filter_2 = ['patient.drug']\n",
    "#output = df[df_filter_2]\n",
    "\n",
    "output_filter = output.dropna(subset=['patient.patientonsetage','patient.patientweight'])\n",
    " \n",
    "# return the quantity of records pulled and print results in dataframe\n",
    "#print(f\"There are {len(results)} records\")\n",
    "\n",
    "# print data\n",
    "print(output_filter)\n",
    "# print(output.loc[0][0])"
   ]
  },
  {
   "cell_type": "code",
   "execution_count": null,
   "id": "1683a210-e954-4479-bb9f-24ce322adc0c",
   "metadata": {},
   "outputs": [],
   "source": []
  }
 ],
 "metadata": {
  "kernelspec": {
   "display_name": "Python 3 (ipykernel)",
   "language": "python",
   "name": "python3"
  },
  "language_info": {
   "codemirror_mode": {
    "name": "ipython",
    "version": 3
   },
   "file_extension": ".py",
   "mimetype": "text/x-python",
   "name": "python",
   "nbconvert_exporter": "python",
   "pygments_lexer": "ipython3",
   "version": "3.12.4"
  }
 },
 "nbformat": 4,
 "nbformat_minor": 5
}
